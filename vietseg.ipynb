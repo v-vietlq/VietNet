{
 "metadata": {
  "language_info": {
   "codemirror_mode": {
    "name": "ipython",
    "version": 3
   },
   "file_extension": ".py",
   "mimetype": "text/x-python",
   "name": "python",
   "nbconvert_exporter": "python",
   "pygments_lexer": "ipython3",
   "version": "3.8.3"
  },
  "orig_nbformat": 2,
  "kernelspec": {
   "name": "python383jvsc74a57bd03b7ace9d27dc1c502e3dae86da5e8433e0698b131550d06efd3a9ab1da013269",
   "display_name": "Python 3.8.3 64-bit ('base': conda)"
  }
 },
 "nbformat": 4,
 "nbformat_minor": 2,
 "cells": [
  {
   "cell_type": "code",
   "execution_count": null,
   "metadata": {},
   "outputs": [],
   "source": [
    "from google.colab import drive\n",
    "drive.mount('/content/drive')"
   ]
  },
  {
   "cell_type": "code",
   "execution_count": null,
   "metadata": {},
   "outputs": [],
   "source": [
    "# !unzip '/content/drive/MyDrive/mapplirary_vista_4labels_v2.zip' -d ."
   ]
  },
  {
   "cell_type": "code",
   "execution_count": null,
   "metadata": {},
   "outputs": [],
   "source": [
    "# !git clone https://github.com/vietawake/VietNet\n",
    "# !mv -v VietNet/* ."
   ]
  },
  {
   "cell_type": "code",
   "execution_count": null,
   "metadata": {},
   "outputs": [],
   "source": [
    "from models.vietnet import VietNet, CrossEntropyLoss2d\n",
    "import torch\n",
    "import numpy as np\n",
    "from torch.utils.data import DataLoader\n",
    "from torchvision.models import mobilenet_v2\n",
    "from tqdm import tqdm\n",
    "from utils.criterion import CriterionOhemDSN\n",
    "from torchvision import transforms\n",
    "from load_dataset import ImageDataset\n",
    "from train import train_one_epoch, validate_model\n",
    "from PIL import Image\n",
    "import torchvision\n",
    "import os"
   ]
  },
  {
   "cell_type": "code",
   "execution_count": null,
   "metadata": {},
   "outputs": [],
   "source": [
    "net = VietNet(num_classes= 5)"
   ]
  },
  {
   "cell_type": "code",
   "execution_count": null,
   "metadata": {},
   "outputs": [],
   "source": [
    "torch.backends.cudnn.benchmark = True\n",
    "np.random.seed(50)\n",
    "torch.manual_seed(50)\n",
    "\n",
    "if torch.cuda.is_available():\n",
    "    torch.cuda.manual_seed(50)\n",
    "\n",
    "device = torch.device(\"cuda:0\" if torch.cuda.is_available() else \"cpu\")"
   ]
  },
  {
   "cell_type": "code",
   "execution_count": null,
   "metadata": {},
   "outputs": [],
   "source": [
    "num_epochs = 50\n",
    "max_acc = 0\n",
    "patience = 10\n",
    "not_improved_count = 0\n",
    "batch_size = 4"
   ]
  },
  {
   "cell_type": "code",
   "execution_count": null,
   "metadata": {},
   "outputs": [],
   "source": [
    "transform = transforms.Compose([\n",
    "    torchvision.transforms.Resize((384, 640),interpolation=Image.NEAREST),\n",
    "])\n",
    "\n",
    "\n",
    "train_dataset = ImageDataset(txt_files='data/train_list.txt', \n",
    "                              img_size=(384, 640), \n",
    "                              transform=transform)\n",
    "\n",
    "val_dataset = ImageDataset(txt_files='data/val_list.txt', \n",
    "                            img_size=(384, 640), \n",
    "                            transform=transform)\n",
    "train_loader = DataLoader(train_dataset, batch_size=batch_size,\n",
    "                              shuffle=True, num_workers=6)\n",
    "val_loader = DataLoader(val_dataset, batch_size=batch_size,\n",
    "                            shuffle=True, num_workers=6)"
   ]
  },
  {
   "cell_type": "code",
   "execution_count": null,
   "metadata": {},
   "outputs": [],
   "source": [
    "criterion = CrossEntropyLoss2d()\n",
    "optimizer = torch.optim.Adam(net.parameters(),5e-4,(0.9, 0.999), eps=1e-08, weight_decay=1e-4)\n",
    "\n",
    "for epoch in range(num_epochs):\n",
    "    train_loss, train_acc, train_iou, train_dice = train_one_epoch(net, criterion, optimizer, train_loader, device)\n",
    "    val_loss , val_acc, val_iou, val_dice = validate_model(net, criterion, val_loader, device)\n",
    "\n",
    "    print('Epoch: {}'.format(epoch))\n",
    "    print('Train_acc: {:.4f}\\tTrain_iou: {:.4f}\\tTrain_Dice: {:.4f}\\tTrain_Loss: {:.4f}'.format(train_acc,train_iou,train_dice,train_loss))\n",
    "    print('Valid_acc: {:.4f}\\tValid_iou: {:.4f}\\tTrain_Dice: {:.4f}\\tValid_Loss: {:.4f}'.format(val_acc,val_iou, val_dice, val_loss))\n",
    "\n",
    "    if val_acc > max_acc:\n",
    "        torch.save(net.state_dict(), '/content/drive/MyDrive/checkpoints/RoadSeg_epoch_' + str(epoch) + '_acc_{0:.4f}'.format(val_acc)+'.pt')\n",
    "        max_acc = val_acc\n",
    "        not_improved_count = 0\n",
    "    else:\n",
    "        not_improved_count+=1\n",
    "    \n",
    "    if not_improved_count >=patience:\n",
    "        break\n"
   ]
  },
  {
   "cell_type": "code",
   "execution_count": null,
   "metadata": {},
   "outputs": [],
   "source": []
  }
 ]
}